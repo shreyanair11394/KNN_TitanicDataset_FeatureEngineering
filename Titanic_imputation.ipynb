{
 "cells": [
  {
   "cell_type": "markdown",
   "metadata": {},
   "source": [
    "Contents:\n",
    "\n",
    "1. Module Imports\n",
    "2. Reading Data into the Notebook\n",
    "3. Train - Valid - Test split\n",
    "4. Data Pre-processing\n",
    "5. Hyperparameter tuning\n",
    "6. Evaluating test set accuracy with the trained model\n"
   ]
  },
  {
   "cell_type": "code",
   "execution_count": 20,
   "metadata": {},
   "outputs": [
    {
     "name": "stdout",
     "output_type": "stream",
     "text": [
      "Requirement already satisfied: fancyimpute in c:\\users\\shrey\\anaconda3\\lib\\site-packages (0.5.3)\n",
      "Requirement already satisfied: keras>=2.0.0 in c:\\users\\shrey\\anaconda3\\lib\\site-packages (from fancyimpute) (2.2.4)\n",
      "Requirement already satisfied: scikit-learn>=0.21.2 in c:\\users\\shrey\\anaconda3\\lib\\site-packages (from fancyimpute) (0.21.2)\n",
      "Requirement already satisfied: knnimpute in c:\\users\\shrey\\anaconda3\\lib\\site-packages (from fancyimpute) (0.1.0)\n",
      "Requirement already satisfied: numpy>=1.10 in c:\\users\\shrey\\anaconda3\\lib\\site-packages (from fancyimpute) (1.16.4)\n",
      "Requirement already satisfied: cvxpy>=1.0.6 in c:\\users\\shrey\\anaconda3\\lib\\site-packages (from fancyimpute) (1.0.24)\n",
      "Requirement already satisfied: tensorflow in c:\\users\\shrey\\anaconda3\\lib\\site-packages (from fancyimpute) (1.14.0)\n",
      "Requirement already satisfied: scipy in c:\\users\\shrey\\anaconda3\\lib\\site-packages (from fancyimpute) (1.2.1)\n",
      "Requirement already satisfied: pyyaml in c:\\users\\shrey\\anaconda3\\lib\\site-packages (from keras>=2.0.0->fancyimpute) (5.1.1)\n",
      "Requirement already satisfied: six>=1.9.0 in c:\\users\\shrey\\anaconda3\\lib\\site-packages (from keras>=2.0.0->fancyimpute) (1.12.0)\n",
      "Requirement already satisfied: keras-preprocessing>=1.0.5 in c:\\users\\shrey\\anaconda3\\lib\\site-packages (from keras>=2.0.0->fancyimpute) (1.1.0)\n",
      "Requirement already satisfied: keras-applications>=1.0.6 in c:\\users\\shrey\\anaconda3\\lib\\site-packages (from keras>=2.0.0->fancyimpute) (1.0.8)\n",
      "Requirement already satisfied: h5py in c:\\users\\shrey\\anaconda3\\lib\\site-packages (from keras>=2.0.0->fancyimpute) (2.9.0)\n",
      "Requirement already satisfied: joblib>=0.11 in c:\\users\\shrey\\anaconda3\\lib\\site-packages (from scikit-learn>=0.21.2->fancyimpute) (0.13.2)\n",
      "Requirement already satisfied: scs>=1.1.3 in c:\\users\\shrey\\anaconda3\\lib\\site-packages (from cvxpy>=1.0.6->fancyimpute) (2.1.1.post2)\n",
      "Requirement already satisfied: multiprocess in c:\\users\\shrey\\anaconda3\\lib\\site-packages (from cvxpy>=1.0.6->fancyimpute) (0.70.8)\n",
      "Requirement already satisfied: osqp>=0.4.1 in c:\\users\\shrey\\anaconda3\\lib\\site-packages (from cvxpy>=1.0.6->fancyimpute) (0.5.0)\n",
      "Requirement already satisfied: ecos>=2 in c:\\users\\shrey\\anaconda3\\lib\\site-packages (from cvxpy>=1.0.6->fancyimpute) (2.0.5)\n",
      "Requirement already satisfied: gast>=0.2.0 in c:\\users\\shrey\\anaconda3\\lib\\site-packages (from tensorflow->fancyimpute) (0.2.2)\n",
      "Requirement already satisfied: protobuf>=3.6.1 in c:\\users\\shrey\\anaconda3\\lib\\site-packages (from tensorflow->fancyimpute) (3.9.0)\n",
      "Requirement already satisfied: grpcio>=1.8.6 in c:\\users\\shrey\\anaconda3\\lib\\site-packages (from tensorflow->fancyimpute) (1.22.0)\n",
      "Requirement already satisfied: wheel>=0.26 in c:\\users\\shrey\\anaconda3\\lib\\site-packages (from tensorflow->fancyimpute) (0.33.4)\n",
      "Requirement already satisfied: google-pasta>=0.1.6 in c:\\users\\shrey\\anaconda3\\lib\\site-packages (from tensorflow->fancyimpute) (0.1.7)\n",
      "Requirement already satisfied: tensorflow-estimator<1.15.0rc0,>=1.14.0rc0 in c:\\users\\shrey\\anaconda3\\lib\\site-packages (from tensorflow->fancyimpute) (1.14.0)\n",
      "Requirement already satisfied: astor>=0.6.0 in c:\\users\\shrey\\anaconda3\\lib\\site-packages (from tensorflow->fancyimpute) (0.8.0)\n",
      "Requirement already satisfied: termcolor>=1.1.0 in c:\\users\\shrey\\anaconda3\\lib\\site-packages (from tensorflow->fancyimpute) (1.1.0)\n",
      "Requirement already satisfied: wrapt>=1.11.1 in c:\\users\\shrey\\anaconda3\\lib\\site-packages (from tensorflow->fancyimpute) (1.11.2)\n",
      "Requirement already satisfied: tensorboard<1.15.0,>=1.14.0 in c:\\users\\shrey\\anaconda3\\lib\\site-packages (from tensorflow->fancyimpute) (1.14.0)\n",
      "Requirement already satisfied: absl-py>=0.7.0 in c:\\users\\shrey\\anaconda3\\lib\\site-packages (from tensorflow->fancyimpute) (0.7.1)\n",
      "Requirement already satisfied: dill>=0.3.0 in c:\\users\\shrey\\anaconda3\\lib\\site-packages (from multiprocess->cvxpy>=1.0.6->fancyimpute) (0.3.0)\n",
      "Requirement already satisfied: future in c:\\users\\shrey\\anaconda3\\lib\\site-packages (from osqp>=0.4.1->cvxpy>=1.0.6->fancyimpute) (0.17.1)\n",
      "Requirement already satisfied: setuptools in c:\\users\\shrey\\anaconda3\\lib\\site-packages (from protobuf>=3.6.1->tensorflow->fancyimpute) (41.0.1)\n",
      "Requirement already satisfied: werkzeug>=0.11.15 in c:\\users\\shrey\\anaconda3\\lib\\site-packages (from tensorboard<1.15.0,>=1.14.0->tensorflow->fancyimpute) (0.15.4)\n",
      "Requirement already satisfied: markdown>=2.6.8 in c:\\users\\shrey\\anaconda3\\lib\\site-packages (from tensorboard<1.15.0,>=1.14.0->tensorflow->fancyimpute) (3.1.1)\n"
     ]
    }
   ],
   "source": [
    "!pip install fancyimpute\n"
   ]
  },
  {
   "cell_type": "code",
   "execution_count": 57,
   "metadata": {},
   "outputs": [
    {
     "name": "stderr",
     "output_type": "stream",
     "text": [
      "C:\\Users\\shrey\\Anaconda3\\lib\\site-packages\\sklearn\\externals\\joblib\\__init__.py:15: DeprecationWarning: sklearn.externals.joblib is deprecated in 0.21 and will be removed in 0.23. Please import this functionality directly from joblib, which can be installed with: pip install joblib. If this warning is raised when loading pickled models, you may need to re-serialize those models with scikit-learn 0.21+.\n",
      "  warnings.warn(msg, category=DeprecationWarning)\n"
     ]
    }
   ],
   "source": [
    "# data analysis and wrangling\n",
    "import pandas as pd\n",
    "import numpy as np\n",
    "import scipy\n",
    "from pandas.api.types import is_string_dtype,is_numeric_dtype\n",
    "from sklearn import preprocessing\n",
    "from sklearn.neighbors import KNeighborsClassifier\n",
    "from sklearn.metrics import confusion_matrix,accuracy_score,matthews_corrcoef,f1_score\n",
    "from sklearn.externals import joblib\n",
    "from matplotlib import pyplot as plt\n",
    "import seaborn as sns\n",
    "\n",
    "# visualization\n",
    "import matplotlib.pyplot as plt\n",
    "import seaborn as sns\n",
    "\n",
    "# machine learning\n",
    "from sklearn.svm import SVC\n",
    "from sklearn import preprocessing\n",
    "import fancyimpute\n",
    "from sklearn.model_selection import train_test_split\n",
    "from sklearn.model_selection import RandomizedSearchCV\n",
    "from sklearn.metrics import classification_report\n",
    "from sklearn.model_selection import cross_val_score\n",
    "from sklearn import linear_model\n",
    "from sklearn.linear_model import LogisticRegression\n",
    "from sklearn.ensemble import RandomForestClassifier\n",
    "from sklearn.linear_model import Perceptron\n",
    "from sklearn.linear_model import SGDClassifier\n",
    "from sklearn.tree import DecisionTreeClassifier\n",
    "from sklearn.neighbors import KNeighborsClassifier\n",
    "from sklearn.svm import SVC, LinearSVC\n",
    "from sklearn.naive_bayes import GaussianNB\n",
    "\n",
    "\n",
    "from sklearn.model_selection import train_test_split\n",
    "\n",
    "%matplotlib inline\n",
    "\n"
   ]
  },
  {
   "cell_type": "code",
   "execution_count": 58,
   "metadata": {},
   "outputs": [],
   "source": [
    "'''Define a variable that points to this. This will let you avoid typing\n",
    "the long path everytime you need to use it'''\n",
    "\n",
    "my_path = 'C:\\\\Users\\\\shrey\\\\Desktop\\\\ML Asg 2'"
   ]
  },
  {
   "cell_type": "markdown",
   "metadata": {},
   "source": [
    "# II. Reading data into the notebook"
   ]
  },
  {
   "cell_type": "code",
   "execution_count": 59,
   "metadata": {},
   "outputs": [
    {
     "name": "stdout",
     "output_type": "stream",
     "text": [
      "(1309, 12)\n"
     ]
    },
    {
     "data": {
      "text/html": [
       "<div>\n",
       "<style scoped>\n",
       "    .dataframe tbody tr th:only-of-type {\n",
       "        vertical-align: middle;\n",
       "    }\n",
       "\n",
       "    .dataframe tbody tr th {\n",
       "        vertical-align: top;\n",
       "    }\n",
       "\n",
       "    .dataframe thead th {\n",
       "        text-align: right;\n",
       "    }\n",
       "</style>\n",
       "<table border=\"1\" class=\"dataframe\">\n",
       "  <thead>\n",
       "    <tr style=\"text-align: right;\">\n",
       "      <th></th>\n",
       "      <th>PassengerId</th>\n",
       "      <th>Survived</th>\n",
       "      <th>Pclass</th>\n",
       "      <th>Name</th>\n",
       "      <th>Sex</th>\n",
       "      <th>Age</th>\n",
       "      <th>SibSp</th>\n",
       "      <th>Parch</th>\n",
       "      <th>Ticket</th>\n",
       "      <th>Fare</th>\n",
       "      <th>Cabin</th>\n",
       "      <th>Embarked</th>\n",
       "    </tr>\n",
       "  </thead>\n",
       "  <tbody>\n",
       "    <tr>\n",
       "      <th>0</th>\n",
       "      <td>1</td>\n",
       "      <td>0</td>\n",
       "      <td>3</td>\n",
       "      <td>Braund, Mr. Owen Harris</td>\n",
       "      <td>male</td>\n",
       "      <td>22.0</td>\n",
       "      <td>1</td>\n",
       "      <td>0</td>\n",
       "      <td>A/5 21171</td>\n",
       "      <td>7.2500</td>\n",
       "      <td>NaN</td>\n",
       "      <td>S</td>\n",
       "    </tr>\n",
       "    <tr>\n",
       "      <th>1</th>\n",
       "      <td>2</td>\n",
       "      <td>1</td>\n",
       "      <td>1</td>\n",
       "      <td>Cumings, Mrs. John Bradley (Florence Briggs Th...</td>\n",
       "      <td>female</td>\n",
       "      <td>38.0</td>\n",
       "      <td>1</td>\n",
       "      <td>0</td>\n",
       "      <td>PC 17599</td>\n",
       "      <td>71.2833</td>\n",
       "      <td>C85</td>\n",
       "      <td>C</td>\n",
       "    </tr>\n",
       "    <tr>\n",
       "      <th>2</th>\n",
       "      <td>3</td>\n",
       "      <td>1</td>\n",
       "      <td>3</td>\n",
       "      <td>Heikkinen, Miss. Laina</td>\n",
       "      <td>female</td>\n",
       "      <td>26.0</td>\n",
       "      <td>0</td>\n",
       "      <td>0</td>\n",
       "      <td>STON/O2. 3101282</td>\n",
       "      <td>7.9250</td>\n",
       "      <td>NaN</td>\n",
       "      <td>S</td>\n",
       "    </tr>\n",
       "  </tbody>\n",
       "</table>\n",
       "</div>"
      ],
      "text/plain": [
       "   PassengerId  Survived  Pclass  \\\n",
       "0            1         0       3   \n",
       "1            2         1       1   \n",
       "2            3         1       3   \n",
       "\n",
       "                                                Name     Sex   Age  SibSp  \\\n",
       "0                            Braund, Mr. Owen Harris    male  22.0      1   \n",
       "1  Cumings, Mrs. John Bradley (Florence Briggs Th...  female  38.0      1   \n",
       "2                             Heikkinen, Miss. Laina  female  26.0      0   \n",
       "\n",
       "   Parch            Ticket     Fare Cabin Embarked  \n",
       "0      0         A/5 21171   7.2500   NaN        S  \n",
       "1      0          PC 17599  71.2833   C85        C  \n",
       "2      0  STON/O2. 3101282   7.9250   NaN        S  "
      ]
     },
     "execution_count": 59,
     "metadata": {},
     "output_type": "execute_result"
    }
   ],
   "source": [
    "'''We will use the Titanic dataset, as supplied here (Titanic_full.csv).\n",
    "The same dataset can be downloaded from the Kaggle website. Check the\n",
    "shape and header of the data you just read in as a dataframe. The use of\n",
    "f and {} is specific to the recent versions of Python (3.x). You can as \n",
    "well type the full path here, and that works too!'''\n",
    "\n",
    "my_df = pd.read_csv(f'{my_path}/Titanic_full(2).csv')\n",
    "print(my_df.shape)\n",
    "my_df.head(3)"
   ]
  },
  {
   "cell_type": "code",
   "execution_count": 60,
   "metadata": {},
   "outputs": [
    {
     "name": "stdout",
     "output_type": "stream",
     "text": [
      "(1100, 12) (209, 12)\n"
     ]
    }
   ],
   "source": [
    "#Divide train and test set\n",
    "\n",
    "def mydf_splitter(my_df,num_rows):\n",
    "    return my_df[:num_rows].copy(),my_df[num_rows:]\n",
    "\n",
    "\n",
    "mydf_train_valid,mydf_test = mydf_splitter(my_df,1100)\n",
    "\n",
    "print(mydf_train_valid.shape,mydf_test.shape)\n",
    "\n",
    "#We are going to put away the mydf_test for now. \n",
    "#We will return to it later."
   ]
  },
  {
   "cell_type": "code",
   "execution_count": 61,
   "metadata": {},
   "outputs": [],
   "source": [
    "# Extract title from names, then assign to one of five classes.\n",
    "# [REFERENCE] Function based on code  from: https://www.kaggle.com/startupsci/titanic/titanic-data-science-solutions \n",
    "def add_title(data):\n",
    "    data['Title'] = data.Name.str.extract(' ([A-Za-z]+)\\.', expand=False)\n",
    "    data.Title = data.Title.replace(['Lady', 'Countess','Capt', 'Col','Don', 'Dr', 'Major', \n",
    "                                     'Rev', 'Sir', 'Jonkheer', 'Dona'], 'Rare')\n",
    "    data.Title = data.Title.replace('Mlle', 'Miss')\n",
    "    data.Title = data.Title.replace('Ms', 'Miss')\n",
    "    data.Title = data.Title.replace('Mme', 'Mrs')\n",
    "    \n",
    "    # Map from strings to numerical variables.\n",
    "    title_mapping = {\"Mr\": 1, \"Miss\": 2, \"Mrs\": 3, \"Master\": 4, \"Rare\": 5}\n",
    "    \n",
    "    data.Title = data.Title.map(title_mapping)\n",
    "    data.Title = data.Title.fillna(0)\n",
    "\n",
    "    return data\n",
    "\n"
   ]
  },
  {
   "cell_type": "code",
   "execution_count": 62,
   "metadata": {},
   "outputs": [
    {
     "data": {
      "text/html": [
       "<div>\n",
       "<style scoped>\n",
       "    .dataframe tbody tr th:only-of-type {\n",
       "        vertical-align: middle;\n",
       "    }\n",
       "\n",
       "    .dataframe tbody tr th {\n",
       "        vertical-align: top;\n",
       "    }\n",
       "\n",
       "    .dataframe thead th {\n",
       "        text-align: right;\n",
       "    }\n",
       "</style>\n",
       "<table border=\"1\" class=\"dataframe\">\n",
       "  <thead>\n",
       "    <tr style=\"text-align: right;\">\n",
       "      <th></th>\n",
       "      <th>PassengerId</th>\n",
       "      <th>Survived</th>\n",
       "      <th>Pclass</th>\n",
       "      <th>Name</th>\n",
       "      <th>Sex</th>\n",
       "      <th>Age</th>\n",
       "      <th>SibSp</th>\n",
       "      <th>Parch</th>\n",
       "      <th>Ticket</th>\n",
       "      <th>Fare</th>\n",
       "      <th>Cabin</th>\n",
       "      <th>Embarked</th>\n",
       "    </tr>\n",
       "  </thead>\n",
       "  <tbody>\n",
       "    <tr>\n",
       "      <th>61</th>\n",
       "      <td>62</td>\n",
       "      <td>1</td>\n",
       "      <td>1</td>\n",
       "      <td>Icard, Miss. Amelie</td>\n",
       "      <td>female</td>\n",
       "      <td>38.0</td>\n",
       "      <td>0</td>\n",
       "      <td>0</td>\n",
       "      <td>113572</td>\n",
       "      <td>80.0</td>\n",
       "      <td>B28</td>\n",
       "      <td>NaN</td>\n",
       "    </tr>\n",
       "    <tr>\n",
       "      <th>829</th>\n",
       "      <td>830</td>\n",
       "      <td>1</td>\n",
       "      <td>1</td>\n",
       "      <td>Stone, Mrs. George Nelson (Martha Evelyn)</td>\n",
       "      <td>female</td>\n",
       "      <td>62.0</td>\n",
       "      <td>0</td>\n",
       "      <td>0</td>\n",
       "      <td>113572</td>\n",
       "      <td>80.0</td>\n",
       "      <td>B28</td>\n",
       "      <td>NaN</td>\n",
       "    </tr>\n",
       "  </tbody>\n",
       "</table>\n",
       "</div>"
      ],
      "text/plain": [
       "     PassengerId  Survived  Pclass                                       Name  \\\n",
       "61            62         1       1                        Icard, Miss. Amelie   \n",
       "829          830         1       1  Stone, Mrs. George Nelson (Martha Evelyn)   \n",
       "\n",
       "        Sex   Age  SibSp  Parch  Ticket  Fare Cabin Embarked  \n",
       "61   female  38.0      0      0  113572  80.0   B28      NaN  \n",
       "829  female  62.0      0      0  113572  80.0   B28      NaN  "
      ]
     },
     "execution_count": 62,
     "metadata": {},
     "output_type": "execute_result"
    }
   ],
   "source": [
    "missing_emb_training = mydf_train_valid[pd.isnull(mydf_train_valid.Embarked) == True]\n",
    "missing_emb_test = mydf_test[pd.isnull(mydf_test.Embarked) == True]\n",
    "missing_emb_training.head()\n"
   ]
  },
  {
   "cell_type": "code",
   "execution_count": 63,
   "metadata": {},
   "outputs": [
    {
     "name": "stderr",
     "output_type": "stream",
     "text": [
      "C:\\Users\\shrey\\Anaconda3\\lib\\site-packages\\seaborn\\axisgrid.py:230: UserWarning: The `size` paramter has been renamed to `height`; please update your code.\n",
      "  warnings.warn(msg, UserWarning)\n"
     ]
    },
    {
     "data": {
      "image/png": "[encoded data removed]",
      "text/plain": [
       "<Figure size 768.32x158.4 with 3 Axes>"
      ]
     },
     "metadata": {
      "needs_background": "light"
     },
     "output_type": "display_data"
    }
   ],
   "source": [
    "grid = sns.FacetGrid(mydf_train_valid[mydf_train_valid.Pclass == 1], col='Embarked', size=2.2, aspect=1.6)\n",
    "grid.map(plt.hist, 'Fare', alpha=.5, bins=20)\n",
    "grid.map(plt.axvline, x=80.0, color='red', ls='dashed')\n",
    "grid.add_legend();\n",
    "\n",
    "#Southampton was the most popular port of embarkation"
   ]
  },
  {
   "cell_type": "code",
   "execution_count": 64,
   "metadata": {},
   "outputs": [],
   "source": [
    "# Recast port of departure as numerical feature. \n",
    "def simplify_embark(data):\n",
    "    # Two missing values, assign Cherbourg as port of departure.\n",
    "    data.Embarked = data.Embarked.fillna('C')\n",
    "    \n",
    "    le = preprocessing.LabelEncoder().fit(data.Embarked)\n",
    "    data.Embarked = le.transform(data.Embarked)\n",
    "    \n",
    "    return data\n",
    "\n"
   ]
  },
  {
   "cell_type": "code",
   "execution_count": 65,
   "metadata": {},
   "outputs": [
    {
     "data": {
      "text/html": [
       "<div>\n",
       "<style scoped>\n",
       "    .dataframe tbody tr th:only-of-type {\n",
       "        vertical-align: middle;\n",
       "    }\n",
       "\n",
       "    .dataframe tbody tr th {\n",
       "        vertical-align: top;\n",
       "    }\n",
       "\n",
       "    .dataframe thead th {\n",
       "        text-align: right;\n",
       "    }\n",
       "</style>\n",
       "<table border=\"1\" class=\"dataframe\">\n",
       "  <thead>\n",
       "    <tr style=\"text-align: right;\">\n",
       "      <th></th>\n",
       "      <th>PassengerId</th>\n",
       "      <th>Survived</th>\n",
       "      <th>Pclass</th>\n",
       "      <th>Name</th>\n",
       "      <th>Sex</th>\n",
       "      <th>Age</th>\n",
       "      <th>SibSp</th>\n",
       "      <th>Parch</th>\n",
       "      <th>Ticket</th>\n",
       "      <th>Fare</th>\n",
       "      <th>Cabin</th>\n",
       "      <th>Embarked</th>\n",
       "    </tr>\n",
       "  </thead>\n",
       "  <tbody>\n",
       "    <tr>\n",
       "      <th>1043</th>\n",
       "      <td>1044</td>\n",
       "      <td>0</td>\n",
       "      <td>3</td>\n",
       "      <td>Storey, Mr. Thomas</td>\n",
       "      <td>male</td>\n",
       "      <td>60.5</td>\n",
       "      <td>0</td>\n",
       "      <td>0</td>\n",
       "      <td>3701</td>\n",
       "      <td>NaN</td>\n",
       "      <td>NaN</td>\n",
       "      <td>S</td>\n",
       "    </tr>\n",
       "  </tbody>\n",
       "</table>\n",
       "</div>"
      ],
      "text/plain": [
       "      PassengerId  Survived  Pclass                Name   Sex   Age  SibSp  \\\n",
       "1043         1044         0       3  Storey, Mr. Thomas  male  60.5      0   \n",
       "\n",
       "      Parch Ticket  Fare Cabin Embarked  \n",
       "1043      0   3701   NaN   NaN        S  "
      ]
     },
     "execution_count": 65,
     "metadata": {},
     "output_type": "execute_result"
    }
   ],
   "source": [
    "#We will perform a similar analysis to see if there are any missing fares.\n",
    "\n",
    "missing_fare_training = mydf_train_valid[np.isnan(mydf_train_valid['Fare'])]\n",
    "missing_fare_test = mydf_test[np.isnan(mydf_test['Fare'])]\n",
    "\n",
    "missing_fare_training.head()\n",
    "\n"
   ]
  },
  {
   "cell_type": "code",
   "execution_count": 66,
   "metadata": {},
   "outputs": [
    {
     "data": {
      "image/png": "[encoded data removed]",
      "text/plain": [
       "<Figure size 432x288 with 1 Axes>"
      ]
     },
     "metadata": {
      "needs_background": "light"
     },
     "output_type": "display_data"
    }
   ],
   "source": [
    "# working with Pclass and Embarked\n",
    "\n",
    "restricted_training = mydf_train_valid[(mydf_train_valid.Pclass == 3) & (mydf_train_valid.Embarked == 'S')]\n",
    "restricted_test = mydf_test[(mydf_test.Pclass == 3) & (mydf_test.Embarked == 'S')]\n",
    "restricted_training = restricted_training[~np.isnan(restricted_training.Fare)] # Leave out poor Mr. Storey\n",
    "combine = [restricted_training, restricted_test]\n",
    "combine = pd.concat(combine)\n",
    "\n",
    "# Find median fare, plot over resulting distribution. \n",
    "fare_med = np.median(combine.Fare)\n",
    "\n",
    "sns.kdeplot(combine.Fare, shade=True)\n",
    "plt.axvline(fare_med, color='r', ls='dashed', lw='1', label='Median')\n",
    "plt.legend();\n"
   ]
  },
  {
   "cell_type": "code",
   "execution_count": 67,
   "metadata": {},
   "outputs": [],
   "source": [
    "mydf_train_valid['Fare'] = mydf_train_valid['Fare'].fillna(fare_med)"
   ]
  },
  {
   "cell_type": "code",
   "execution_count": 68,
   "metadata": {},
   "outputs": [
    {
     "data": {
      "text/plain": [
       "0"
      ]
     },
     "execution_count": 68,
     "metadata": {},
     "output_type": "execute_result"
    }
   ],
   "source": [
    "mydf_train_valid['Fare'].isnull().sum()\n"
   ]
  },
  {
   "cell_type": "code",
   "execution_count": 69,
   "metadata": {},
   "outputs": [
    {
     "name": "stdout",
     "output_type": "stream",
     "text": [
      "Percentage of Missing Cabin Numbers (Training): 77.2\n",
      "Percentage of Missing Cabin Numbers (Test): 78.9\n"
     ]
    }
   ],
   "source": [
    "#Cabin has many missing data\n",
    "\n",
    "missing_cabin_training = np.size(mydf_train_valid.Cabin[pd.isnull(mydf_train_valid.Cabin) == True]) / np.size(mydf_train_valid.Cabin) * 100.0\n",
    "missing_cabin_test = np.size(mydf_test.Cabin[pd.isnull(mydf_test.Cabin) == True]) / np.size(mydf_test.Cabin) * 100.0\n",
    "\n",
    "print('Percentage of Missing Cabin Numbers (Training): %0.1f' % missing_cabin_training)\n",
    "print('Percentage of Missing Cabin Numbers (Test): %0.1f' % missing_cabin_test)\n",
    "\n"
   ]
  },
  {
   "cell_type": "code",
   "execution_count": 70,
   "metadata": {},
   "outputs": [],
   "source": [
    "## Set of functions to transform features into more convenient format.\n",
    "#\n",
    "# Code performs three separate tasks:\n",
    "#   (1). Pull out the first letter of the cabin feature. \n",
    "#          Code taken from: https://www.kaggle.com/jeffd23/titanic/scikit-learn-ml-from-start-to-finish\n",
    "#   (2). Recasts cabin feature as number.\n",
    "def simplify_cabins(data):\n",
    "    data.Cabin = data.Cabin.fillna('N')\n",
    "    data.Cabin = data.Cabin.apply(lambda x: x[0])\n",
    "    \n",
    "    #cabin_mapping = {'N': 0, 'A': 1, 'B': 1, 'C': 1, 'D': 1, 'E': 1, \n",
    "    #                 'F': 1, 'G': 1, 'T': 1}\n",
    "    #data['Cabin_Known'] = data.Cabin.map(cabin_mapping)\n",
    "    \n",
    "    le = preprocessing.LabelEncoder().fit(data.Cabin)\n",
    "    data.Cabin = le.transform(data.Cabin)\n",
    "    \n",
    "    return data\n",
    "\n"
   ]
  },
  {
   "cell_type": "code",
   "execution_count": 71,
   "metadata": {},
   "outputs": [],
   "source": [
    "# Recast sex as numerical feature. \n",
    "def simplify_sex(data):\n",
    "    sex_mapping = {'male': 0, 'female': 1}\n",
    "    data.Sex = data.Sex.map(sex_mapping).astype(int)\n",
    "    \n",
    "    return data\n",
    "\n",
    "\n",
    "# Perform all feature transformations. \n",
    "def transform_all(data):\n",
    "    data = add_title(data)\n",
    "    data = simplify_embark(data)\n",
    "    data = simplify_cabins(data)\n",
    "    data = simplify_sex(data)\n",
    " \n",
    "    \n",
    "    return data\n"
   ]
  },
  {
   "cell_type": "code",
   "execution_count": 72,
   "metadata": {},
   "outputs": [
    {
     "name": "stderr",
     "output_type": "stream",
     "text": [
      "C:\\Users\\shrey\\Anaconda3\\lib\\site-packages\\ipykernel_launcher.py:4: SettingWithCopyWarning: \n",
      "A value is trying to be set on a copy of a slice from a DataFrame.\n",
      "Try using .loc[row_indexer,col_indexer] = value instead\n",
      "\n",
      "See the caveats in the documentation: http://pandas.pydata.org/pandas-docs/stable/indexing.html#indexing-view-versus-copy\n",
      "  after removing the cwd from sys.path.\n",
      "C:\\Users\\shrey\\Anaconda3\\lib\\site-packages\\pandas\\core\\generic.py:5096: SettingWithCopyWarning: \n",
      "A value is trying to be set on a copy of a slice from a DataFrame.\n",
      "Try using .loc[row_indexer,col_indexer] = value instead\n",
      "\n",
      "See the caveats in the documentation: http://pandas.pydata.org/pandas-docs/stable/indexing.html#indexing-view-versus-copy\n",
      "  self[name] = value\n"
     ]
    }
   ],
   "source": [
    "\n",
    "training_data = transform_all(mydf_train_valid)\n",
    "test_data = transform_all(mydf_test)"
   ]
  },
  {
   "cell_type": "code",
   "execution_count": 73,
   "metadata": {},
   "outputs": [
    {
     "name": "stdout",
     "output_type": "stream",
     "text": [
      "<class 'pandas.core.frame.DataFrame'>\n",
      "RangeIndex: 1100 entries, 0 to 1099\n",
      "Data columns (total 13 columns):\n",
      "PassengerId    1100 non-null int64\n",
      "Survived       1100 non-null int64\n",
      "Pclass         1100 non-null int64\n",
      "Name           1100 non-null object\n",
      "Sex            1100 non-null int32\n",
      "Age            881 non-null float64\n",
      "SibSp          1100 non-null int64\n",
      "Parch          1100 non-null int64\n",
      "Ticket         1100 non-null object\n",
      "Fare           1100 non-null float64\n",
      "Cabin          1100 non-null int32\n",
      "Embarked       1100 non-null int32\n",
      "Title          1100 non-null int64\n",
      "dtypes: float64(2), int32(3), int64(6), object(2)\n",
      "memory usage: 98.9+ KB\n"
     ]
    }
   ],
   "source": [
    "training_data.info()"
   ]
  },
  {
   "cell_type": "code",
   "execution_count": 74,
   "metadata": {},
   "outputs": [],
   "source": [
    "#Droppin NAme and Ticket as it is unwanted\n",
    "\n",
    "new_drop_name_Ticket_train = training_data.drop([\"Name\", \"Ticket\"],axis = 1)\n",
    "new_drop_name_Ticket_test = test_data.drop([\"Name\", \"Ticket\"],axis = 1)"
   ]
  },
  {
   "cell_type": "code",
   "execution_count": 75,
   "metadata": {},
   "outputs": [
    {
     "data": {
      "text/plain": [
       "(1100, 11)"
      ]
     },
     "execution_count": 75,
     "metadata": {},
     "output_type": "execute_result"
    }
   ],
   "source": [
    "new_drop_name_Ticket_train.shape"
   ]
  },
  {
   "cell_type": "code",
   "execution_count": 76,
   "metadata": {},
   "outputs": [
    {
     "data": {
      "text/plain": [
       "(209, 11)"
      ]
     },
     "execution_count": 76,
     "metadata": {},
     "output_type": "execute_result"
    }
   ],
   "source": [
    "new_drop_name_Ticket_test.shape"
   ]
  },
  {
   "cell_type": "code",
   "execution_count": 77,
   "metadata": {},
   "outputs": [],
   "source": [
    "\n",
    "all_data = [new_drop_name_Ticket_train, new_drop_name_Ticket_test]\n",
    "combined_data = pd.concat(all_data)"
   ]
  },
  {
   "cell_type": "code",
   "execution_count": 78,
   "metadata": {},
   "outputs": [
    {
     "data": {
      "text/plain": [
       "263"
      ]
     },
     "execution_count": 78,
     "metadata": {},
     "output_type": "execute_result"
    }
   ],
   "source": [
    "combined_data['Age'].isnull().sum()"
   ]
  },
  {
   "cell_type": "code",
   "execution_count": 79,
   "metadata": {},
   "outputs": [
    {
     "data": {
      "text/plain": [
       "<matplotlib.axes._subplots.AxesSubplot at 0x1f3ca88f0f0>"
      ]
     },
     "execution_count": 79,
     "metadata": {},
     "output_type": "execute_result"
    },
    {
     "data": {
      "image/png": "[encoded data removed]",
      "text/plain": [
       "<Figure size 432x288 with 1 Axes>"
      ]
     },
     "metadata": {
      "needs_background": "light"
     },
     "output_type": "display_data"
    }
   ],
   "source": [
    "#Imputing Null in ages using fancyImpute\n",
    "\n",
    "# Examine distribution of AGES prior to imputation for combined data (for comparison). \n",
    "\n",
    "null_ages = pd.isnull(combined_data.Age)\n",
    "known_ages = pd.notnull(combined_data.Age)\n",
    "initial_dist = combined_data.Age[known_ages]\n",
    "\n",
    "\n",
    "sns.distplot(initial_dist)\n",
    "\n"
   ]
  },
  {
   "cell_type": "code",
   "execution_count": 80,
   "metadata": {},
   "outputs": [
    {
     "data": {
      "text/plain": [
       "\"def impute_ages(data):\\n    drop_survived = data.drop(['Survived'], axis=1)\\n    column_titles = list(drop_survived)\\n    mice_results = fancyimpute.MICE().fit_transform(drop_survived)\\n    results = pd.DataFrame(mice_results, columns=column_titles)\\n    results['Survived'] = list(data['Survived'])\\n    return results\\n\\ncomplete_data = impute_ages(combined_data)\\ncomplete_data.Age = complete_data.Age[~(complete_data.Age).index.duplicated(keep='first')]\\n\""
      ]
     },
     "execution_count": 80,
     "metadata": {},
     "output_type": "execute_result"
    }
   ],
   "source": [
    "#imputing AGE USING FANCYIMPUTE\n",
    "\n",
    "from fancyimpute import SimpleFill\n",
    "Xtmp = combined_data.drop(['PassengerId','Sex','Title','Cabin','Embarked'],axis=1)\n",
    "Xtmp = pd.DataFrame(SimpleFill().fit_transform(Xtmp),index=Xtmp.index,columns=Xtmp.columns)\n",
    "combined_data.loc[:,'Age'] = Xtmp.loc[:,'Age']\n",
    "\n",
    "\n",
    "training_data = combined_data[:1100]\n",
    "test_data = combined_data[1100:]\n",
    "\n",
    "'''from fancyimpute import KNN\n",
    "\n",
    "X_filled_knn = KNN(k=3).fit_transform(training_data_X)'''\n",
    "\n",
    "'''def impute_ages(data):\n",
    "    drop_survived = data.drop(['Survived'], axis=1)\n",
    "    column_titles = list(drop_survived)\n",
    "    mice_results = fancyimpute.MICE().fit_transform(drop_survived)\n",
    "    results = pd.DataFrame(mice_results, columns=column_titles)\n",
    "    results['Survived'] = list(data['Survived'])\n",
    "    return results\n",
    "\n",
    "complete_data = impute_ages(combined_data)\n",
    "complete_data.Age = complete_data.Age[~(complete_data.Age).index.duplicated(keep='first')]\n",
    "'''\n",
    "\n"
   ]
  },
  {
   "cell_type": "code",
   "execution_count": 81,
   "metadata": {},
   "outputs": [
    {
     "data": {
      "text/plain": [
       "<matplotlib.axes._subplots.AxesSubplot at 0x1f3c93bea20>"
      ]
     },
     "execution_count": 81,
     "metadata": {},
     "output_type": "execute_result"
    },
    {
     "data": {
      "image/png": "[encoded data removed]",
      "text/plain": [
       "<Figure size 432x288 with 1 Axes>"
      ]
     },
     "metadata": {
      "needs_background": "light"
     },
     "output_type": "display_data"
    }
   ],
   "source": [
    "# Examine distribution of ages prior to imputation for training_data (for comparison).\n",
    "\n",
    "null_ages = pd.isnull(training_data.Age)\n",
    "known_ages = pd.notnull(training_data.Age)\n",
    "initial_dist = training_data.Age[known_ages]\n",
    "\n",
    " \n",
    "sns.distplot(initial_dist)"
   ]
  },
  {
   "cell_type": "code",
   "execution_count": 82,
   "metadata": {},
   "outputs": [
    {
     "data": {
      "text/plain": [
       "0"
      ]
     },
     "execution_count": 82,
     "metadata": {},
     "output_type": "execute_result"
    }
   ],
   "source": [
    "training_data['Age'].isnull().sum()"
   ]
  },
  {
   "cell_type": "code",
   "execution_count": 83,
   "metadata": {},
   "outputs": [
    {
     "data": {
      "text/plain": [
       "'From the output above it is easy to see that distribution is not dramatically altered by the imputation. \\nAdditionally, there are no non-sensical ages (negative or extremely old) produced in the process. \\nFor experimenting with the tutorial this step is sufficent. \\nIn a more serious project this may be one of the most critical steps.'"
      ]
     },
     "execution_count": 83,
     "metadata": {},
     "output_type": "execute_result"
    }
   ],
   "source": [
    "'''From the output above it is easy to see that distribution is not dramatically altered by the imputation. \n",
    "Additionally, there are no non-sensical ages (negative or extremely old) produced in the process. \n",
    "For experimenting with the tutorial this step is sufficent. \n",
    "In a more serious project this may be one of the most critical steps.'''"
   ]
  },
  {
   "cell_type": "code",
   "execution_count": 84,
   "metadata": {},
   "outputs": [
    {
     "data": {
      "text/plain": [
       "0"
      ]
     },
     "execution_count": 84,
     "metadata": {},
     "output_type": "execute_result"
    }
   ],
   "source": [
    "test_data['Age'].isnull().sum()"
   ]
  },
  {
   "cell_type": "code",
   "execution_count": 85,
   "metadata": {},
   "outputs": [
    {
     "data": {
      "text/plain": [
       "<matplotlib.axes._subplots.AxesSubplot at 0x1f3c9349710>"
      ]
     },
     "execution_count": 85,
     "metadata": {},
     "output_type": "execute_result"
    },
    {
     "data": {
      "image/png": "[encoded data removed]",
      "text/plain": [
       "<Figure size 432x288 with 1 Axes>"
      ]
     },
     "metadata": {
      "needs_background": "light"
     },
     "output_type": "display_data"
    }
   ],
   "source": [
    "# Examine distribution of ages prior to imputation (for comparison).\n",
    "\n",
    "null_ages = pd.isnull(test_data.Age)\n",
    "known_ages = pd.notnull(test_data.Age)\n",
    "initial_dist = test_data.Age[known_ages]\n",
    "\n",
    " \n",
    "sns.distplot(initial_dist)"
   ]
  },
  {
   "cell_type": "code",
   "execution_count": 86,
   "metadata": {},
   "outputs": [
    {
     "data": {
      "text/plain": [
       "(1100, 11)"
      ]
     },
     "execution_count": 86,
     "metadata": {},
     "output_type": "execute_result"
    }
   ],
   "source": [
    "training_data.shape\n"
   ]
  },
  {
   "cell_type": "code",
   "execution_count": 87,
   "metadata": {},
   "outputs": [
    {
     "data": {
      "text/plain": [
       "(209, 11)"
      ]
     },
     "execution_count": 87,
     "metadata": {},
     "output_type": "execute_result"
    }
   ],
   "source": [
    "test_data.shape"
   ]
  },
  {
   "cell_type": "code",
   "execution_count": 88,
   "metadata": {},
   "outputs": [],
   "source": [
    "#Split training_data and test_data again after Data CLeaning to prepare a model\n",
    "\n",
    "training_data_Y=training_data[\"Survived\"]\n",
    "training_data_X = training_data.drop([\"Survived\"],axis = 1)\n",
    "\n",
    "test_data_Y=test_data[\"Survived\"]\n",
    "test_data_X = test_data.drop([\"Survived\"],axis = 1)"
   ]
  },
  {
   "cell_type": "code",
   "execution_count": 89,
   "metadata": {},
   "outputs": [
    {
     "data": {
      "text/plain": [
       "PassengerId    0\n",
       "Survived       0\n",
       "Pclass         0\n",
       "Sex            0\n",
       "Age            0\n",
       "SibSp          0\n",
       "Parch          0\n",
       "Fare           0\n",
       "Cabin          0\n",
       "Embarked       0\n",
       "Title          0\n",
       "dtype: int64"
      ]
     },
     "execution_count": 89,
     "metadata": {},
     "output_type": "execute_result"
    }
   ],
   "source": [
    "training_data.isnull().sum()"
   ]
  },
  {
   "cell_type": "code",
   "execution_count": 90,
   "metadata": {},
   "outputs": [
    {
     "data": {
      "text/plain": [
       "PassengerId    0\n",
       "Survived       0\n",
       "Pclass         0\n",
       "Sex            0\n",
       "Age            0\n",
       "SibSp          0\n",
       "Parch          0\n",
       "Fare           0\n",
       "Cabin          0\n",
       "Embarked       0\n",
       "Title          0\n",
       "dtype: int64"
      ]
     },
     "execution_count": 90,
     "metadata": {},
     "output_type": "execute_result"
    }
   ],
   "source": [
    "test_data.isnull().sum()"
   ]
  },
  {
   "cell_type": "code",
   "execution_count": 91,
   "metadata": {},
   "outputs": [],
   "source": [
    "'''Time for training the model and evaluating it on the validation set. \n",
    "At first, let's use the default values for the kNN hyperparameters -\n",
    "n_neighbors = 3,weights = 'uniform'). KNN has more hyperparameters such as\n",
    "leaf_size, metric, etc. But, these two are key hyperparamters'''\n",
    "\n",
    "my_knn_model = KNeighborsClassifier(n_neighbors = 7,weights = 'uniform', metric='minkowski', leaf_size=30)\n",
    "my_knn_model.fit(training_data_X,training_data_Y)\n",
    "\n",
    "#Predict on the validation set\n",
    "Y_pred = my_knn_model.predict(test_data_X )"
   ]
  },
  {
   "cell_type": "code",
   "execution_count": 92,
   "metadata": {},
   "outputs": [
    {
     "name": "stdout",
     "output_type": "stream",
     "text": [
      "0.569377990430622 0.05140560641943572 0.1\n"
     ]
    }
   ],
   "source": [
    "print(accuracy_score(test_data_Y,Y_pred),\n",
    "      matthews_corrcoef(test_data_Y,Y_pred),f1_score(test_data_Y,Y_pred))"
   ]
  },
  {
   "cell_type": "code",
   "execution_count": null,
   "metadata": {},
   "outputs": [],
   "source": []
  }
 ],
 "metadata": {
  "kernelspec": {
   "display_name": "Python 3",
   "language": "python",
   "name": "python3"
  },
  "language_info": {
   "codemirror_mode": {
    "name": "ipython",
    "version": 3
   },
   "file_extension": ".py",
   "mimetype": "text/x-python",
   "name": "python",
   "nbconvert_exporter": "python",
   "pygments_lexer": "ipython3",
   "version": "3.6.8"
  }
 },
 "nbformat": 4,
 "nbformat_minor": 2
}
